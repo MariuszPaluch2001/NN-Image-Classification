{
  "nbformat": 4,
  "nbformat_minor": 0,
  "metadata": {
    "colab": {
      "provenance": []
    },
    "kernelspec": {
      "name": "python3",
      "display_name": "Python 3"
    },
    "language_info": {
      "name": "python"
    },
    "accelerator": "GPU",
    "gpuClass": "standard"
  },
  "cells": [
    {
      "cell_type": "code",
      "execution_count": 28,
      "metadata": {
        "id": "1nlYhL3-7QNF"
      },
      "outputs": [],
      "source": [
        "import torch\n",
        "\n",
        "import torch.nn as nn\n",
        "import torch.nn.functional as F\n",
        "\n",
        "import torch.optim as optim\n",
        "\n",
        "import torchvision\n",
        "from torchvision import datasets, transforms"
      ]
    },
    {
      "cell_type": "code",
      "source": [
        "device = torch.device('cuda')\n",
        "device"
      ],
      "metadata": {
        "id": "84S2U7ngrHM1"
      },
      "execution_count": null,
      "outputs": []
    },
    {
      "cell_type": "code",
      "source": [
        "from google.colab import drive\n",
        "drive.mount('/content/drive')"
      ],
      "metadata": {
        "id": "UrAw8A2UryTE"
      },
      "execution_count": null,
      "outputs": []
    },
    {
      "cell_type": "code",
      "source": [
        "!unzip drive/MyDrive/ann_imgs/train.zip"
      ],
      "metadata": {
        "id": "QK9j-SphD7c6"
      },
      "execution_count": null,
      "outputs": []
    },
    {
      "cell_type": "code",
      "source": [
        "!pip install split-folders\n",
        "import splitfolders\n",
        "splitfolders.ratio('./train', output=\"output\", seed=1337, ratio=(0.8, 0.0,0.2)) "
      ],
      "metadata": {
        "id": "LT_AUAQyF-Q8"
      },
      "execution_count": null,
      "outputs": []
    },
    {
      "cell_type": "code",
      "source": [
        "train_transform = transforms.Compose(\n",
        "    [transforms.RandomHorizontalFlip(0.5),\n",
        "     transforms.RandomRotation(24),\n",
        "     transforms.ToTensor(),\n",
        "     transforms.Normalize((0.5, 0.5, 0.5), (0.5, 0.5, 0.5))])\n",
        "\n",
        "test_transform = transforms.Compose(\n",
        "    [transforms.ToTensor(),\n",
        "     transforms.Normalize((0.5, 0.5, 0.5), (0.5, 0.5, 0.5))])"
      ],
      "metadata": {
        "id": "mFV45ZqQJ0lO"
      },
      "execution_count": 33,
      "outputs": []
    },
    {
      "cell_type": "code",
      "source": [
        "ITERATIONS = 30\n",
        "LR = 1e-3\n",
        "BATCH_SIZE = 256\n",
        "DROPOUT = 0.3"
      ],
      "metadata": {
        "id": "TCzvc5b1_tJn"
      },
      "execution_count": 34,
      "outputs": []
    },
    {
      "cell_type": "code",
      "source": [
        "train_dataset = datasets.ImageFolder('./output/train', transform=train_transform)\n",
        "train_dataloader = torch.utils.data.DataLoader(train_dataset, batch_size=BATCH_SIZE, shuffle=True)"
      ],
      "metadata": {
        "id": "lsfb4bRILGZ9"
      },
      "execution_count": 35,
      "outputs": []
    },
    {
      "cell_type": "code",
      "source": [
        "test_dataset = datasets.ImageFolder('./output/test', transform=test_transform)\n",
        "test_dataloader = torch.utils.data.DataLoader(test_dataset, batch_size=BATCH_SIZE, shuffle=True)"
      ],
      "metadata": {
        "id": "ZDooxK1VX2P5"
      },
      "execution_count": 36,
      "outputs": []
    },
    {
      "cell_type": "code",
      "source": [
        "classes = dict(zip(train_dataset.class_to_idx.values(), train_dataset.class_to_idx.keys()))\n",
        "classes"
      ],
      "metadata": {
        "id": "sMgkTkjDRC6e"
      },
      "execution_count": null,
      "outputs": []
    },
    {
      "cell_type": "code",
      "source": [
        "print(f\"Train dataset lenght: {len(train_dataset)}\")\n",
        "print(f\"Test dataset lenght: {len(test_dataset)}\")\n",
        "print(f\"Image shape: {train_dataset[0][0].shape}\")\n",
        "print(f\"Number of classes: {len(classes)}\")"
      ],
      "metadata": {
        "id": "RjvPuz2rYnoh"
      },
      "execution_count": null,
      "outputs": []
    },
    {
      "cell_type": "code",
      "source": [
        "images, labels = next(iter(train_dataloader))\n",
        "labels"
      ],
      "metadata": {
        "id": "YGFYigYCLilR"
      },
      "execution_count": null,
      "outputs": []
    },
    {
      "cell_type": "code",
      "source": [
        "import matplotlib.pyplot as plt\n",
        "import numpy as np\n",
        "plt.figure(figsize = (20,10))\n",
        "\n",
        "def imshow(img):\n",
        "    img = img / 2 + 0.5\n",
        "    npimg = img.numpy()\n",
        "    plt.imshow(np.transpose(npimg, (1, 2, 0)))\n",
        "    plt.show()\n",
        "\n",
        "imshow(torchvision.utils.make_grid(images))\n",
        "print(' '.join('%5s' % classes[int(labels[j])] for j in range(32)))"
      ],
      "metadata": {
        "id": "fwKN_xllLpKq"
      },
      "execution_count": null,
      "outputs": []
    },
    {
      "cell_type": "code",
      "source": [
        "class Net(nn.Module):\n",
        "    def __init__(self):\n",
        "        super().__init__()\n",
        "\n",
        "        self.conv1 = nn.Conv2d(in_channels=3, out_channels=17, kernel_size=4, stride=1, padding=0)\n",
        "        self.cbn1 = nn.BatchNorm2d(17)\n",
        "        self.conv2 = nn.Conv2d(in_channels=17, out_channels=17, kernel_size=4, stride=1, padding=0)\n",
        "        self.cbn2 = nn.BatchNorm2d(17)\n",
        "        self.conv3 = nn.Conv2d(in_channels=17, out_channels=17, kernel_size=4, stride=1, padding=0)\n",
        "        self.cbn3 = nn.BatchNorm2d(17)\n",
        "        self.conv4 = nn.Conv2d(in_channels=17, out_channels=17, kernel_size=4, stride=1, padding=0)\n",
        "        self.cbn4 = nn.BatchNorm2d(17)\n",
        "        self.conv5 = nn.Conv2d(in_channels=17, out_channels=17, kernel_size=4, stride=1, padding=0)\n",
        "        self.cbn5 = nn.BatchNorm2d(17)\n",
        "\n",
        "        self.pool1 = nn.MaxPool2d(kernel_size=2, stride=2)\n",
        "        self.fc1 = nn.Linear(9792, 5000)\n",
        "        self.bn1 = nn.BatchNorm1d(5000)\n",
        "        self.d1 = nn.Dropout(DROPOUT)\n",
        "        self.fc2 = nn.Linear(5000, 2500)\n",
        "        self.bn2 = nn.BatchNorm1d(2500)\n",
        "        self.d2 = nn.Dropout(DROPOUT)\n",
        "        self.fc3 = nn.Linear(2500, 1000)\n",
        "        self.bn3 = nn.BatchNorm1d(1000)\n",
        "        self.d3 = nn.Dropout(DROPOUT)\n",
        "        self.fc4 = nn.Linear(1000, 500)\n",
        "        self.bn4 = nn.BatchNorm1d(500)\n",
        "        self.d4 = nn.Dropout(DROPOUT)\n",
        "        self.fc5 = nn.Linear(500, 50)\n",
        "\n",
        "        for m in self.modules():\n",
        "            if isinstance(m, nn.Linear):\n",
        "                nn.init.xavier_normal_(m.weight.data)\n",
        "                \n",
        "    def forward(self, x):\n",
        "        x = F.relu(self.conv1(x))\n",
        "        x = self.cbn1(x)\n",
        "        x = F.relu(self.conv2(x))\n",
        "        x = self.cbn2(x)\n",
        "        x = F.relu(self.conv3(x))\n",
        "        x = self.cbn3(x)\n",
        "        x = F.relu(self.conv4(x))\n",
        "        x = self.cbn4(x)\n",
        "        x = self.conv5(x)\n",
        "        x = self.cbn5(x)\n",
        "        x = F.relu(self.pool1(x))\n",
        "\n",
        "        x = torch.flatten(x, 1)\n",
        "        x = F.relu(self.d1(self.bn1(self.fc1(x))))\n",
        "        x = F.relu(self.d2(self.bn2(self.fc2(x))))\n",
        "        x = F.relu(self.d3(self.bn3(self.fc3(x))))\n",
        "        x = F.relu(self.d4(self.bn4(self.fc4(x))))\n",
        "        x = self.fc5(x)\n",
        "        return x"
      ],
      "metadata": {
        "id": "GY3IT3uU5xXp"
      },
      "execution_count": 41,
      "outputs": []
    },
    {
      "cell_type": "code",
      "source": [
        "net = Net().to(device)\n",
        "net"
      ],
      "metadata": {
        "id": "xOJ5y2137SN7"
      },
      "execution_count": null,
      "outputs": []
    },
    {
      "cell_type": "code",
      "source": [
        "criterion = nn.CrossEntropyLoss()\n",
        "optimizer = optim.Adam(net.parameters(), lr=LR)"
      ],
      "metadata": {
        "id": "9IJ7BVVG8WeC"
      },
      "execution_count": 43,
      "outputs": []
    },
    {
      "cell_type": "code",
      "source": [
        "for epoch in range(ITERATIONS): \n",
        "\n",
        "    running_loss = 0.0\n",
        "    for inputs, labels in train_dataloader:\n",
        "        inputs, labels = inputs.to(device), labels.to(device)\n",
        "        optimizer.zero_grad()\n",
        "\n",
        "        outputs = net(inputs)\n",
        "        loss = criterion(outputs, labels)\n",
        "        loss.backward()\n",
        "        optimizer.step()\n",
        "\n",
        "        running_loss += loss.item()\n",
        "\n",
        "    print('[%d/%d] loss: %.3f' %\n",
        "          (epoch+1 , ITERATIONS,  running_loss / 2000))\n",
        "    running_loss = 0.0\n"
      ],
      "metadata": {
        "id": "LV6mchsv8eja"
      },
      "execution_count": null,
      "outputs": []
    },
    {
      "cell_type": "code",
      "source": [
        "numb_examples = 8\n",
        "examples = enumerate(test_dataloader)\n",
        "idx, (images, labels) = next(examples)\n",
        "images = images[:numb_examples]\n",
        "\n",
        "imshow(torchvision.utils.make_grid(images))\n",
        "print('GroundTruth: ', ' '.join('%5s' % classes[int(labels[j])] for j in range(numb_examples)))"
      ],
      "metadata": {
        "id": "92Lk5MQ1-MDb"
      },
      "execution_count": null,
      "outputs": []
    },
    {
      "cell_type": "code",
      "source": [
        "outputs = net(images.to(device))"
      ],
      "metadata": {
        "id": "QFeJohNr-OTe"
      },
      "execution_count": 46,
      "outputs": []
    },
    {
      "cell_type": "code",
      "source": [
        "_, predicted = torch.max(outputs, 1)\n",
        "\n",
        "print('Predicted: ', ' '.join('%5s' % classes[int(predicted[j])]\n",
        "                              for j in range(numb_examples)))"
      ],
      "metadata": {
        "id": "N7OT-UK6-SsV",
        "colab": {
          "base_uri": "https://localhost:8080/"
        },
        "outputId": "91c89a09-970a-43b0-b0eb-45b9b13c64ca"
      },
      "execution_count": 47,
      "outputs": [
        {
          "output_type": "stream",
          "name": "stdout",
          "text": [
            "Predicted:  bridge   egg   tea swine kangaroo  bean  fish camera\n"
          ]
        }
      ]
    },
    {
      "cell_type": "code",
      "source": [
        "net.eval()\n",
        "\n",
        "corrects = 0\n",
        "total = 0\n",
        "\n",
        "for inputs, labels in test_dataloader:\n",
        "\n",
        "    inputs, labels = inputs.to(device), labels.to(device)\n",
        "    outputs = net(inputs)\n",
        "\n",
        "    _, predicted = torch.max(outputs, 1)\n",
        "\n",
        "    total += len(labels)\n",
        "    corrects += (labels == predicted).sum().item()\n",
        "\n",
        "print(f\"Accuracy: {corrects / total}\")"
      ],
      "metadata": {
        "id": "TeNsKKaRG0n4"
      },
      "execution_count": null,
      "outputs": []
    },
    {
      "cell_type": "code",
      "source": [
        "correct_pred = {classname: 0 for classname in train_dataset.classes}\n",
        "total_pred = {classname: 0 for classname in train_dataset.classes}\n",
        "\n",
        "with torch.no_grad():\n",
        "    for images, labels in test_dataloader:\n",
        "        labels = labels.to(device)\n",
        "        images = images.to(device)\n",
        "        outputs = net(images)\n",
        "        _, predictions = torch.max(outputs, 1)\n",
        "        for label, prediction in zip(labels, predictions):\n",
        "            if label == prediction:\n",
        "                correct_pred[classes[int(label)]] += 1\n",
        "            total_pred[classes[int(label)]] += 1\n",
        "\n",
        "  \n",
        "for classname, correct_count in correct_pred.items():\n",
        "    accuracy = 100 * float(correct_count) / total_pred[classname]\n",
        "    print(\"Accuracy for class {:5s} is: {:.1f} %\".format(classname, \n",
        "                                                   accuracy))"
      ],
      "metadata": {
        "id": "32lOq85zb5bw"
      },
      "execution_count": null,
      "outputs": []
    }
  ]
}